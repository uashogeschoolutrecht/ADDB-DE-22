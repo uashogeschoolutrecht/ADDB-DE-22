{
 "cells": [
  {
   "cell_type": "code",
   "execution_count": null,
   "metadata": {},
   "outputs": [],
   "source": [
    "%%html\n",
    "<style> \n",
    "table {margin-left: 0 !important;}\n",
    "table td, table th, table tr {text-align:left !important;}\n",
    "</style>"
   ]
  },
  {
   "attachments": {},
   "cell_type": "markdown",
   "metadata": {},
   "source": [
    "<div>\n",
    "<img src=\"attachment:Bovag.jpg\" width=\"400\">\n",
    "</div>"
   ]
  },
  {
   "attachments": {},
   "cell_type": "markdown",
   "metadata": {},
   "source": [
    "# Moderation Models - Groepsopdracht voor werkcollege\n",
    "\n",
    "## Casus\n",
    "De Rabobank heeft gemerkt dat er in teams weinig kennis met elkaar wordt gedeeld en dat teamleden vooral individueel hun taken uitvoeren. De doelstelling van de Rabobank is daarom om kennisdeling in teams te stimuleren. Om die doelstelling te realiseren, hebben alle managers van de Rabobank een leiderschapstraining gevolgd gericht op het ontwikkelen van een transformationele leiderschapsstijl. Kenmerkend voor deze leiderschapsstijl is namelijk dat deze medewerkers stimuleert samen te werken en te leren. \n",
    "\n",
    "De Rabobank wil graag weten in hoeverre medewerkers ervaren dat hun managers een transformationele leiderschapsstijl toepassen (X) en of deze ervaren leiderschapsstijl gerelateerd is aan de mate waarin kennis wordt gedeeld door teamleden in hun team (Y). Ook wil de Rabobank laten onderzoeken of deze mogelijke relatie wordt gemodereerd door effectiviteit van de bestaande samenwerking in die teams (M). In onderstaand conceptueel model staan de relaties weergegeven. \n",
    " \n",
    "In onderstaande tabel staat een overzicht van de variabelen:\n"
   ]
  },
  {
   "attachments": {},
   "cell_type": "markdown",
   "metadata": {},
   "source": [
    "| Type | Omschrijving | Variabelenaam | Meetniveau |\n",
    "| :--- | :--- | :--- | :--- |\n",
    "| Y | Kennisdeling in teams | IP_Scale | Interval |\n",
    "| X | Ervaren transformationeel leiderschap | TFL_Scale | Interval |\n",
    "| M | Effectiviteit van de samenwerking | EF_Scale | Interval | \n"
   ]
  },
  {
   "attachments": {},
   "cell_type": "markdown",
   "metadata": {},
   "source": [
    "**Voetnoot bij tabel**\n",
    "1. *Interval variabelen*: Deze schalen zijn eigenlijk van ordinaal meetniveau. In de praktijk worden schalen van ordinaal meetniveau met een structuur die lijkt op een Likert-schaal vaak behandeld als schalen van interval niveau. Dat doen wij hier ook. Daarop is uiteraard kritiek te leveren, maar die negeren wij voor deze opdracht voor ons gemak even."
   ]
  },
  {
   "attachments": {},
   "cell_type": "markdown",
   "metadata": {},
   "source": [
    "Bekijk allereerst het conceptueel model via deze link:\n",
    "https://github.com/uashogeschoolutrecht/ADDB-DE-22/blob/master/WC6_moderation_and_multilevel_analysis/Moderation_model.jpg"
   ]
  },
  {
   "attachments": {},
   "cell_type": "markdown",
   "metadata": {},
   "source": [
    "**Let op**: Run onderstaande cell om de library pyprocessmacro te installeren. Als je dit één keer gedaan hebt, hoeft dat in het vervolg niet meer, dan kun je hem gewoon importeren (zie volgende cel)."
   ]
  },
  {
   "cell_type": "code",
   "execution_count": null,
   "metadata": {
    "tags": []
   },
   "outputs": [],
   "source": [
    "!pip install pyprocessmacro==1.0.12"
   ]
  },
  {
   "attachments": {},
   "cell_type": "markdown",
   "metadata": {},
   "source": [
    "Importeer vervolgens de benodigde packages. "
   ]
  },
  {
   "cell_type": "code",
   "execution_count": null,
   "metadata": {
    "tags": []
   },
   "outputs": [],
   "source": [
    "# Als je een foutmelding krijgt, uncomment dan de volgende 3 regels (verwijder '#') en run de cel opnieuw.\n",
    "\n",
    "# !pip install numpy==1.22.4\n",
    "# !pip install pandas==1.5.3\n",
    "# !pip install matplotlib==3.6.3\n",
    "\n",
    "import numpy as np\n",
    "import pandas as pd\n",
    "from pyprocessmacro import Process\n",
    "import matplotlib.pyplot as plt"
   ]
  },
  {
   "attachments": {},
   "cell_type": "markdown",
   "metadata": {},
   "source": [
    "Vervolgens lezen we de data in en moeten we de data wat opschonen. Er komen namelijk spaties voor in de data en de numerieke waarden staan er als komma-getal in, waardoor pandas denkt dat het Strings zijn in plaats van Floats. De code om dit op te schonen is hieronder gegeven, je hoeft deze alleen maar te runnen.\n",
    "\n",
    "Ook schalen we de data door van iedere kolom het gemiddelde af te trekken."
   ]
  },
  {
   "cell_type": "code",
   "execution_count": null,
   "metadata": {
    "tags": []
   },
   "outputs": [],
   "source": [
    "df = pd.read_csv('https://raw.githubusercontent.com/uashogeschoolutrecht/ADDB-DE-22/master/WC6_moderation_and_multilevel_analysis/Moderatie.csv', sep = \";\")\n",
    "\n",
    "#Remove all NaNs (or spaces)\n",
    "df = df[(~(df['IP_scale']==\" \") & ~(df['TFL_scale']==\" \") & ~(df['EF_scale']==\" \"))]\n",
    "\n",
    "for column in df.columns:\n",
    "    df[column] = df[column].str.replace(\",\",\".\").astype(float)\n",
    "    df[column] = df[column] - df[column].mean()"
   ]
  },
  {
   "attachments": {},
   "cell_type": "markdown",
   "metadata": {},
   "source": [
    "## Stap 1A: Model interpreteren\n",
    "\n",
    "Run het model met onderstaande syntax en beantwoord onderstaande vragen. Mogelijk zie je in de output een aantal keer 'none' staan, maar scroll er helemaal doorheen, want onderaan staat ook nog relevante output. \n",
    "  "
   ]
  },
  {
   "cell_type": "code",
   "execution_count": null,
   "metadata": {
    "tags": []
   },
   "outputs": [],
   "source": [
    "p = Process(data=df, model=1, x=\"TFL_scale\", y=\"IP_scale\", m=\"EF_scale\")\n",
    "p.summary()"
   ]
  },
  {
   "attachments": {},
   "cell_type": "markdown",
   "metadata": {},
   "source": [
    "### Vraag 1\n",
    "*R square: hoeveel % van de variantie in de Y-variabele wordt verklaard door dit model? Wat betekent dit?* "
   ]
  },
  {
   "attachments": {},
   "cell_type": "markdown",
   "metadata": {},
   "source": [
    "Typ hier je antwoord"
   ]
  },
  {
   "attachments": {},
   "cell_type": "markdown",
   "metadata": {},
   "source": [
    "### Vraag 2\n",
    "*Interactie (int_1): interpreteer significantiewaarde (p-waarden én confidence intervals). Wat betekent dit?* "
   ]
  },
  {
   "attachments": {},
   "cell_type": "markdown",
   "metadata": {},
   "source": [
    "Typ hier je antwoord"
   ]
  },
  {
   "attachments": {},
   "cell_type": "markdown",
   "metadata": {},
   "source": [
    "## Stap 1B - Interactie-effect interpreteren op basis van de output\n",
    "\n",
    "- Interpreteer de resultaten voor *drie moderatiemodellen*, gegeven in de output onder ‘Conditional effects of the focal predictor at values of the moderator(s)’ (zie Field 11.3.7). \n",
    "- Trek een inhoudelijke conclusie op basis van deze drie modellen. \n"
   ]
  },
  {
   "attachments": {},
   "cell_type": "markdown",
   "metadata": {},
   "source": [
    "### Interpretatie Model 1 (met een lage waarde van de moderator)"
   ]
  },
  {
   "attachments": {},
   "cell_type": "markdown",
   "metadata": {},
   "source": [
    "Typ hier je antwoord"
   ]
  },
  {
   "attachments": {},
   "cell_type": "markdown",
   "metadata": {},
   "source": [
    "### Interpretatie Model 2 (met een gemiddelde waarde van de moderator)"
   ]
  },
  {
   "attachments": {},
   "cell_type": "markdown",
   "metadata": {},
   "source": [
    "Typ hier je antwoord"
   ]
  },
  {
   "attachments": {},
   "cell_type": "markdown",
   "metadata": {},
   "source": [
    "### Interpretatie Model 3 (met een hoge waarde van de moderator)"
   ]
  },
  {
   "attachments": {},
   "cell_type": "markdown",
   "metadata": {},
   "source": [
    "Typ hier je antwoord"
   ]
  },
  {
   "attachments": {},
   "cell_type": "markdown",
   "metadata": {},
   "source": [
    "### Conclusie"
   ]
  },
  {
   "attachments": {},
   "cell_type": "markdown",
   "metadata": {},
   "source": [
    "Typ hier je antwoord"
   ]
  },
  {
   "attachments": {},
   "cell_type": "markdown",
   "metadata": {},
   "source": [
    "## Stap 2 - Interactie-effect interpreteren op basis van een Simple Slopes figuur\n",
    "\n",
    "Maak een Simple Slopes figuur met onderstaande syntax en interpreteer deze figuur.    "
   ]
  },
  {
   "cell_type": "code",
   "execution_count": null,
   "metadata": {},
   "outputs": [],
   "source": [
    "b0 = -0.0157\n",
    "b1 = 0.2128\n",
    "b2 = 0.5603\n",
    "b3 = 0.1301\n",
    "x = np.array([0,1,2])\n",
    "z = [-0.5409,0,0.5409]\n",
    "y_low = (b1+b3*z[0])*x+b2*z[0]+b0\n",
    "y_mean = (b1+b3*z[1])*x+b2*z[1]+b0\n",
    "y_high = (b1+b3*z[2])*x+b2*z[2]+b0\n",
    "\n",
    "plt.plot(x,y_low, label = 'EF-scale = -0.54', marker = 'o')\n",
    "plt.plot(x,y_mean,label ='EF-scale = 0.0', marker = 'o')\n",
    "plt.plot(x,y_high, label = 'EF-scale = 0.54', marker = 'o')\n",
    "plt.xlabel('TFL-scale')\n",
    "plt.ylabel('IP-scale')\n",
    "plt.legend()\n",
    "plt.show()"
   ]
  },
  {
   "attachments": {},
   "cell_type": "markdown",
   "metadata": {},
   "source": [
    "### Interpretatie simple Slopes figuur"
   ]
  },
  {
   "attachments": {},
   "cell_type": "markdown",
   "metadata": {},
   "source": [
    "Typ hier je antwoord"
   ]
  },
  {
   "attachments": {},
   "cell_type": "markdown",
   "metadata": {},
   "source": [
    "## Stap 3 - Conclusies en advies\n",
    "\n",
    "*Trek conclusies en breng op basis van bovenstaande resultaten een advies uit aan de opdrachtgevers van de Rabobank.* \n",
    "\n",
    "Zorg ervoor dat je conclusies en advies aan de volgende criteria voldoen:\n",
    "- Conclusies: Geef een korte beschrijving van resultaten in **‘lekentaal’** (te begrijpen voor iemand zonder veel kennis van statistiek).\n",
    "- Advies: Geef concrete aanbevelingen. Schrijf bijvoorbeeld niet alleen op ‘er is vervolgonderzoek nodig’, of ‘interventies moeten gericht zijn op variabele Y’, maar geef ook concrete suggesties. "
   ]
  },
  {
   "attachments": {},
   "cell_type": "markdown",
   "metadata": {},
   "source": [
    "Typ hier jullie conclusies in lekentaal"
   ]
  },
  {
   "attachments": {},
   "cell_type": "markdown",
   "metadata": {},
   "source": [
    "Typ hier jullie advies"
   ]
  }
 ],
 "metadata": {
  "kernelspec": {
   "display_name": "Python 3 (ipykernel)",
   "language": "python",
   "name": "python3"
  },
  "language_info": {
   "codemirror_mode": {
    "name": "ipython",
    "version": 3
   },
   "file_extension": ".py",
   "mimetype": "text/x-python",
   "name": "python",
   "nbconvert_exporter": "python",
   "pygments_lexer": "ipython3",
   "version": "3.8.2"
  }
 },
 "nbformat": 4,
 "nbformat_minor": 4
}
