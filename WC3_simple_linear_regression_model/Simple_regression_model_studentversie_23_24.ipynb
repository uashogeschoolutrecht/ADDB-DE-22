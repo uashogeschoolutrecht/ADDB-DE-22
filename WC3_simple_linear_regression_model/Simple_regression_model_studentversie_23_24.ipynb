{
 "cells": [
  {
   "attachments": {},
   "cell_type": "markdown",
   "metadata": {},
   "source": [
    "# Simple Regression Models - Groepsopdracht voor werkcollege\n",
    "\n",
    "## Casus\n",
    "De BOVAG – een brancheorganisatie van ruim 8.000 ondernemers die zich met mobiliteit bezighouden – wil autoprijzen nauwkeuriger kunnen voorspellen. Veel van de bij BOVAG aangesloten organisaties zijn gespecialiseerd in de handel in personenauto’s en zoeken namelijk naar een model waarop ze hun autoprijzen kunnen baseren. Omdat het vaak kleine organisaties (lees: garages) zijn, beschikken ze zelf niet over de capaciteiten en expertises om zo’n model te ontwikkelen. Daarom wordt dit vraagstuk door BOVAG opgepakt. \n",
    "\n",
    "Op basis van een beschikbare dataset met daarin data van 205 personenauto’s wil men dit model ontwikkelen. Jullie worden ingehuurd om dit model te ontwikkelen en BOVAG te adviseren. In dit werkcollege en het komende werkcollege gaan jullie stapsgewijs dit model ontwikkelen en prijsvoorspellingen ontwikkelen voor veel voorkomende typen auto’s. \n",
    "\n",
    "In dit werkcollege starten jullie met de ontwikkeling van het model door de data te verkennen met behulp van simpele regressiemodellen: modellen met telkens één andere predictor (X) en dezelfde outcome, namelijk de prijs van een auto (Y). \n",
    "\n",
    "Deze Y heeft als variabelenaam ***price*** en is van *ratio* meetniveau.\n",
    "\n",
    "Jullie gaan in dit werkcollege vier modellen onderzoeken. In de tabel hieronder zie je welke predictor in welk model centraal staat:"
   ]
  },
  {
   "attachments": {},
   "cell_type": "markdown",
   "metadata": {},
   "source": [
    "| Model | Predictor (X) | Variabelenaam | Meetniveau |\n",
    "| :--- | :--- | :--- | :--- |\n",
    "| 1 | Maximum aantal omwentelingen van de as per minuut | peakrpm | Ratio | \n",
    "| 2 | Omvang van de motor | enginesize | Ratio |\n",
    "| 3 | PK (vermogen) | horsepower | Ratio |\n",
    "| 4 | Carrosserie | carbody | Nominaal |"
   ]
  },
  {
   "attachments": {},
   "cell_type": "markdown",
   "metadata": {},
   "source": [
    "Importeer eerst onderstaande Python packages door deze code te runnen:"
   ]
  },
  {
   "cell_type": "code",
   "execution_count": null,
   "metadata": {},
   "outputs": [],
   "source": [
    "## Als je een foutmelding krijgt, uncomment dan de volgende 3 regels (verwijder '#') en run de cel opnieuw.\n",
    "\n",
    "# !pip install numpy==1.23.5\n",
    "# !pip install pandas==1.5.3\n",
    "# !pip install statsmodels==0.14.0\n",
    "\n",
    "import numpy as np\n",
    "import pandas as pd\n",
    "import statsmodels.api as sm\n",
    "\n",
    "print(np.__version__,pd.__version__,sm.__version__)"
   ]
  },
  {
   "attachments": {},
   "cell_type": "markdown",
   "metadata": {},
   "source": [
    "## Stap 1: Beschrijvende analyses\n",
    "\n",
    "Vraag via onderstaande code de volgende centrum- en spreidingsmaten op voor de variabelen: gemiddelde, standaard deviatie (SD) en bereik (mininum en maximum).\n",
    "\n",
    "Bedenk waarom deze beschrijvende statistieken voor de variabele ‘carbody’ niet worden weergeven. "
   ]
  },
  {
   "cell_type": "code",
   "execution_count": null,
   "metadata": {},
   "outputs": [],
   "source": [
    "#lees eerst de dataset in, dat kun je doen door deze cel te runnen\n",
    "carprice_df = pd.read_csv(\"https://raw.githubusercontent.com/uashogeschoolutrecht/ADDB-DE-22/master/WC3_simple_linear_regression_model/CarPrice_Assignment.csv\")"
   ]
  },
  {
   "attachments": {},
   "cell_type": "markdown",
   "metadata": {},
   "source": [
    "Maak gebruik van de .describe() functie om de statistieken van de hierboven genoemde kolommen op te vragen."
   ]
  },
  {
   "cell_type": "code",
   "execution_count": null,
   "metadata": {},
   "outputs": [],
   "source": [
    "#Vraag centrum- en spreidingsmaten op\n",
    "carprice_df[[\"Definieer hier de predictoren\"]].describe()"
   ]
  },
  {
   "attachments": {},
   "cell_type": "markdown",
   "metadata": {},
   "source": [
    "## Stap 2 - Simple Regresssion Models met *continue* predictoren\n",
    "\n",
    "Onderzoek de eerste drie modellen één voor één in Python middels onderstaande code en beantwoord de vragen. "
   ]
  },
  {
   "attachments": {},
   "cell_type": "markdown",
   "metadata": {},
   "source": [
    "### Model 1"
   ]
  },
  {
   "cell_type": "code",
   "execution_count": null,
   "metadata": {},
   "outputs": [],
   "source": [
    "y = \"TODO: definieer hier de predictor door de juiste kolom te selecteren in carprice_df\"\n",
    "X = \"TODO: definieer hier de afhankelijke variabele door de juiste kolom te selecteren in carprice_df\""
   ]
  },
  {
   "attachments": {},
   "cell_type": "markdown",
   "metadata": {},
   "source": [
    "Omdat we ook een Intercept willen opvragen in de output, voegen we een kolom met 1-en toe aan X:"
   ]
  },
  {
   "cell_type": "code",
   "execution_count": null,
   "metadata": {},
   "outputs": [],
   "source": [
    "X = sm.add_constant(X) #add an intercept "
   ]
  },
  {
   "attachments": {},
   "cell_type": "markdown",
   "metadata": {},
   "source": [
    "Vervolgens defineren we het model, we trainen hem (fit) en printen de resultaten"
   ]
  },
  {
   "cell_type": "code",
   "execution_count": null,
   "metadata": {},
   "outputs": [],
   "source": [
    "model1 = sm.OLS(y, X)\n",
    "results1 = model1.fit()\n",
    "print(results1.summary())"
   ]
  },
  {
   "attachments": {},
   "cell_type": "markdown",
   "metadata": {},
   "source": [
    "### Model 2"
   ]
  },
  {
   "attachments": {},
   "cell_type": "markdown",
   "metadata": {},
   "source": [
    "In het tweede model blijft de outcome hetzelfde, maar verandert de predictor. Daarom laten we y dezelfde waarde behouden als hierboven, maar moet je X opnieuw definiëren."
   ]
  },
  {
   "cell_type": "code",
   "execution_count": null,
   "metadata": {},
   "outputs": [],
   "source": [
    "X = \"TODO: definieer hier de predictor door de juiste kolom te selecteren in carprice_df\""
   ]
  },
  {
   "cell_type": "code",
   "execution_count": null,
   "metadata": {},
   "outputs": [],
   "source": [
    "X = sm.add_constant(X) #add an intercept \n",
    "model2 = sm.OLS(y, X)\n",
    "results2 = model2.fit()\n",
    "print(results2.summary())"
   ]
  },
  {
   "attachments": {},
   "cell_type": "markdown",
   "metadata": {},
   "source": [
    "### Model 3"
   ]
  },
  {
   "attachments": {},
   "cell_type": "markdown",
   "metadata": {},
   "source": [
    "Ook voor model 3 kunnen blijf y gelijk, maar moeten we X opnieuw definiëren."
   ]
  },
  {
   "cell_type": "code",
   "execution_count": null,
   "metadata": {},
   "outputs": [],
   "source": [
    "X = \"TODO: definieer hier de predictor door de juiste kolom te selecteren in carprice_df\""
   ]
  },
  {
   "cell_type": "code",
   "execution_count": null,
   "metadata": {},
   "outputs": [],
   "source": [
    "X = sm.add_constant(X) #add an intercept \n",
    "model3 = sm.OLS(y, X)\n",
    "results3 = model3.fit()\n",
    "print(results3.summary())"
   ]
  },
  {
   "attachments": {},
   "cell_type": "markdown",
   "metadata": {},
   "source": [
    "### Vraag 1\n",
    "*Wat betekent de R square per model? En welk model is op basis van de R square het beste in het voorspellen van de prijs van een auto?* "
   ]
  },
  {
   "attachments": {},
   "cell_type": "markdown",
   "metadata": {},
   "source": [
    "Typ hier je antwoord"
   ]
  },
  {
   "attachments": {},
   "cell_type": "markdown",
   "metadata": {},
   "source": [
    "### Vraag 2\n",
    "*Hoe interpreteer je de output onder F statistic? Wat betekent dit voor de verschillende modellen?* "
   ]
  },
  {
   "attachments": {},
   "cell_type": "markdown",
   "metadata": {},
   "source": [
    "Typ hier je antwoord"
   ]
  },
  {
   "attachments": {},
   "cell_type": "markdown",
   "metadata": {},
   "source": [
    "### Vraag 3\n",
    "*Interpreteer, indien relevant, de uitkomst onder Beta’s (coef) zeer nauwkeurig per model. *"
   ]
  },
  {
   "attachments": {},
   "cell_type": "markdown",
   "metadata": {},
   "source": [
    "Typ hier je antwoord"
   ]
  },
  {
   "attachments": {},
   "cell_type": "markdown",
   "metadata": {},
   "source": [
    "## Stap 3 - Simple Regression Model met *categorische* predictor\n",
    "\n",
    "Onderzoek het vierde model in Python middels onderstaande code en beantwoord de vragen. "
   ]
  },
  {
   "attachments": {},
   "cell_type": "markdown",
   "metadata": {},
   "source": [
    "Het aanmaken van dummy variabelen kan heel makkelijk met de get_dummies() functie van pandas: https://pandas.pydata.org/docs/reference/api/pandas.get_dummies.html\n",
    "\n",
    "Hieronder is een deel van de code al gegeven, je hoeft alleen maar de data in te voeren, wat in dit geval de 'carbody' kolom is van carprice_df"
   ]
  },
  {
   "cell_type": "code",
   "execution_count": null,
   "metadata": {},
   "outputs": [],
   "source": [
    "carbody_dummies = pd.get_dummies(\"TODO: selecteer de kolom waar je dummies van wilt maken\")"
   ]
  },
  {
   "cell_type": "code",
   "execution_count": null,
   "metadata": {},
   "outputs": [],
   "source": [
    "#antwoord\n",
    "carbody_dummies = pd.get_dummies(carprice_df['carbody'])"
   ]
  },
  {
   "attachments": {},
   "cell_type": "markdown",
   "metadata": {},
   "source": [
    "Omdat we 'sedan' als baseline gebruiken, willen we die kolom verwijderen uit *carbody_dummies*. Maak daarvoor gebruik van .drop() (zie: https://pandas.pydata.org/docs/reference/api/pandas.DataFrame.drop.html). Let op, je moet *axis = 1* meegeven om een kolom te verwijderen."
   ]
  },
  {
   "cell_type": "code",
   "execution_count": null,
   "metadata": {},
   "outputs": [],
   "source": [
    "carbody_dummies = carbody_dummies.drop(\"TODO: specificeer welke kolom je wilt droppen\", axis = 1)"
   ]
  },
  {
   "cell_type": "code",
   "execution_count": null,
   "metadata": {},
   "outputs": [],
   "source": [
    "#antwoord\n",
    "carbody_dummies = carbody_dummies.drop('sedan', axis = 1)"
   ]
  },
  {
   "attachments": {},
   "cell_type": "markdown",
   "metadata": {},
   "source": [
    "Om vervolgens het model te kunnen trainen moet je weer de predictoren toewijzen aan de variabele X."
   ]
  },
  {
   "cell_type": "code",
   "execution_count": null,
   "metadata": {},
   "outputs": [],
   "source": [
    "X = \"TODO: wijs de predictoren toe aan X\""
   ]
  },
  {
   "cell_type": "code",
   "execution_count": null,
   "metadata": {},
   "outputs": [],
   "source": [
    "#antwoord\n",
    "X = carbody_dummies"
   ]
  },
  {
   "cell_type": "code",
   "execution_count": null,
   "metadata": {},
   "outputs": [],
   "source": [
    "X = sm.add_constant(X) #add intercept column\n",
    "model4 = sm.OLS(y, X)\n",
    "results4 = model4.fit()\n",
    "print(results4.summary())"
   ]
  },
  {
   "attachments": {},
   "cell_type": "markdown",
   "metadata": {},
   "source": [
    "### Vraag 1\n",
    "*Wat betekent de R square van dit model? Vergelijk ook de vier onderzochte modellen: welk model is op basis van de R square het beste in het voorspellen van de prijs van een auto?* "
   ]
  },
  {
   "attachments": {},
   "cell_type": "markdown",
   "metadata": {},
   "source": [
    "Typ hier je antwoord"
   ]
  },
  {
   "attachments": {},
   "cell_type": "markdown",
   "metadata": {},
   "source": [
    "### Vraag 2\n",
    "*Hoe interpreteer je de output onder F statistic? Wat betekent dit voor dit model?* "
   ]
  },
  {
   "attachments": {},
   "cell_type": "markdown",
   "metadata": {},
   "source": [
    "Typ hier je antwoord"
   ]
  },
  {
   "attachments": {},
   "cell_type": "markdown",
   "metadata": {},
   "source": [
    "### Vraag 3\n",
    "*Interpreteer, indien relevant, de uitkomst onder Beta’s (coef) zeer nauwkeurig per variabele.* "
   ]
  },
  {
   "attachments": {},
   "cell_type": "markdown",
   "metadata": {},
   "source": [
    "Typ hier je antwoord"
   ]
  },
  {
   "attachments": {},
   "cell_type": "markdown",
   "metadata": {},
   "source": [
    "## Stap 4 - Conclusies en advies\n",
    "\n",
    "*Trek conclusies en breng op basis van bovenstaande resultaten een advies uit aan de opdrachtgevers van BOVAG.* \n",
    "\n",
    "Zorg ervoor dat je conclusies en advies aan de volgende criteria voldoen:\n",
    "- Conclusies: Geef een korte beschrijving van resultaten in **‘lekentaal’** (te begrijpen voor iemand zonder veel kennis van statistiek).\n",
    "- Advies: Geef concrete aanbevelingen. Schrijf bijvoorbeeld niet alleen op ‘er is vervolgonderzoek nodig’, of ‘interventies moeten gericht zijn op variabele Y’, maar geef ook concrete suggesties. "
   ]
  },
  {
   "attachments": {},
   "cell_type": "markdown",
   "metadata": {},
   "source": [
    "Typ hier jullie conclusies in lekentaal"
   ]
  },
  {
   "attachments": {},
   "cell_type": "markdown",
   "metadata": {},
   "source": [
    "Typ hier jullie advies"
   ]
  }
 ],
 "metadata": {
  "kernelspec": {
   "display_name": "Python 3 (ipykernel)",
   "language": "python",
   "name": "python3"
  },
  "language_info": {
   "codemirror_mode": {
    "name": "ipython",
    "version": 3
   },
   "file_extension": ".py",
   "mimetype": "text/x-python",
   "name": "python",
   "nbconvert_exporter": "python",
   "pygments_lexer": "ipython3",
   "version": "3.8.2"
  }
 },
 "nbformat": 4,
 "nbformat_minor": 4
}
