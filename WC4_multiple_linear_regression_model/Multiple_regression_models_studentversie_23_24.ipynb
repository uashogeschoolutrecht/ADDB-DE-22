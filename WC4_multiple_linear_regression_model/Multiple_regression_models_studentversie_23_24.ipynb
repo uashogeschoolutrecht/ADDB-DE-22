{
 "cells": [
  {
   "cell_type": "code",
   "execution_count": null,
   "metadata": {},
   "outputs": [],
   "source": [
    "%%html\n",
    "<style> \n",
    "table {margin-left: 0 !important;}\n",
    "table td, table th, table tr {text-align:left !important;}\n",
    "</style>"
   ]
  },
  {
   "attachments": {},
   "cell_type": "markdown",
   "metadata": {},
   "source": [
    "<div>\n",
    "<img src=\"attachment:Bovag.jpg\" width=\"400\">\n",
    "</div>"
   ]
  },
  {
   "attachments": {},
   "cell_type": "markdown",
   "metadata": {},
   "source": [
    "# Multiple Linear Regression Models - Groepsopdracht voor werkcollege\n",
    "\n",
    "## Casus\n",
    "De BOVAG – een brancheorganisatie van ruim 8.000 ondernemers die zich met mobiliteit bezighouden – wil autoprijzen nauwkeuriger kunnen voorspellen. Veel van de bij BOVAG aangesloten organisaties zijn gespecialiseerd in de handel in personenauto’s en zoeken namelijk naar een model waarop ze hun autoprijzen kunnen baseren. Omdat het vaak kleine organisaties (lees: garages) zijn, beschikken ze zelf niet over de capaciteiten en expertises om zo’n model te ontwikkelen. Daarom wordt dit vraagstuk door BOVAG opgepakt. \n",
    "\n",
    "Op basis van een beschikbare dataset met daarin data van 205 personenauto’s wil men dit model ontwikkelen. Jullie worden ingehuurd om dit model te ontwikkelen en BOVAG te adviseren. \n",
    "\n",
    "In dit werkcollege gaan jullie complexere regressiemodellen bouwen met meerdere predictoren (X1, X2, etc.) en deze modellen vergelijken. Tot slot gaan jullie prijsvoorspellingen ontwikkelen voor veel voorkomende typen auto’s. \n",
    "\n",
    "De methode die jullie bij de multiple linear regression hanteren is **hierarchical modeling**. Op basis van eerdere onderzoeken naar autoprijzen bouwen jullie het multiple regressie model in drie stappen op (of: 3 modellen). Bij model 1 worden vier kenmerken over de afmeting en gewicht van de auto toegevoegd, in model 2 worden kenmerken van het type carrosserie toegevoegd, en in model 3 kenmerken van de motor. \n",
    "\n",
    "De Y heeft als variabelenaam ***price*** en is van *ratio* meetniveau.\n",
    "\n",
    "In onderstaande tabel zie je welke predictoren je in welk model moet opnemen:"
   ]
  },
  {
   "attachments": {},
   "cell_type": "markdown",
   "metadata": {},
   "source": [
    "| Model | Predictor (X) | Variabelenaam | Meetniveau |\n",
    "| :--- | :--- | :--- | :--- |\n",
    "| 1 | Lengte van de auto | carlength | Ratio |\n",
    "| 1 | Breedte van de auto | carwidth | Ratio |\n",
    "| 1 | Hoogte van de auto | carheigth | Ratio | \n",
    "| 1 | Gewicht van de auto | curbweight | Ratio | \n",
    "| 2 | Carrosserie | carbody | Nominaal |\n",
    "| 3 | Omvang van de motor | enginesize | Ratio |\n",
    "| 3 | PK (vermogen) | horsepower | Ratio |"
   ]
  },
  {
   "attachments": {},
   "cell_type": "markdown",
   "metadata": {},
   "source": [
    "Run eerst onderstaande 2 cellen. Die laden de benodigde packages."
   ]
  },
  {
   "cell_type": "code",
   "execution_count": null,
   "metadata": {},
   "outputs": [],
   "source": [
    "url = \"https://raw.githubusercontent.com/uashogeschoolutrecht/ADDB-DE-22/master/WC4_multiple_linear_regression_model/helper_functions.py\"\n",
    "!wget --no-cache --backups=1 {url}"
   ]
  },
  {
   "cell_type": "code",
   "execution_count": null,
   "metadata": {},
   "outputs": [],
   "source": [
    "# Als je een foutmelding krijgt, uncomment dan de volgende 3 regels (verwijder '#') en run de cel opnieuw.\n",
    "\n",
    "# !pip install numpy==1.23.5\n",
    "# !pip install pandas==1.5.3\n",
    "# !pip install statsmodels==0.14.0\n",
    "\n",
    "import numpy as np\n",
    "import pandas as pd\n",
    "import statsmodels.api as sm\n",
    "import helper_functions\n",
    "\n",
    "print(np.__version__,pd.__version__,sm.__version__)"
   ]
  },
  {
   "attachments": {},
   "cell_type": "markdown",
   "metadata": {},
   "source": [
    "Nu gaan we de dataset CarPrice_Assignment.csv inlezen"
   ]
  },
  {
   "cell_type": "code",
   "execution_count": null,
   "metadata": {},
   "outputs": [],
   "source": [
    "carprice_df = pd.read_csv('https://raw.githubusercontent.com/uashogeschoolutrecht/ADDB-DE-22/master/WC4_multiple_linear_regression_model/CarPrice_Assignment.csv')"
   ]
  },
  {
   "attachments": {},
   "cell_type": "markdown",
   "metadata": {},
   "source": [
    "## Stap 1: Dummy variabelen maken (indien nodig)\n",
    "\n",
    "In stap 2 wordt de variabele carbody toegevoegd. Zoals jullie – hopelijk – nog weten van het vorige werkcollege, is dit een nominale variabele waarvan eerst dummy variabelen worden gemaakt. \n",
    "Heb je het databestand met dummy variabelen van vorig werkcollege bewaard, gebruik dan dat bestand. Heb je dat bestand niet meer, maak dan eerst dummy variabelen aan met carrosserie type ‘sedan’ als baseline categorie. Oftewel, maak vier dummy variabelen aan: convertible (of soft top), hard top, hatchback en wagon.  "
   ]
  },
  {
   "cell_type": "code",
   "execution_count": null,
   "metadata": {},
   "outputs": [],
   "source": [
    "carbody_dummies = pd.get_dummies(\"TODO: selecteer de kolom waar je dummies van wilt maken\")"
   ]
  },
  {
   "cell_type": "code",
   "execution_count": null,
   "metadata": {},
   "outputs": [],
   "source": [
    "#antwoord\n",
    "carbody_dummies = pd.get_dummies(carprice_df['carbody'])"
   ]
  },
  {
   "attachments": {},
   "cell_type": "markdown",
   "metadata": {},
   "source": [
    "Omdat we 'sedan' als baseline gebruiken, willen we die kolom verwijderen uit *carbody_dummies*. Maak daarvoor gebruik van .drop() (zie: https://pandas.pydata.org/docs/reference/api/pandas.DataFrame.drop.html). Let op, je moet *axis = 1* meegeven om een kolom te verwijderen."
   ]
  },
  {
   "cell_type": "code",
   "execution_count": null,
   "metadata": {},
   "outputs": [],
   "source": [
    "carbody_dummies = carbody_dummies.drop(\"TODO: specificeer welke kolom je wilt droppen\", axis = 1)"
   ]
  },
  {
   "attachments": {},
   "cell_type": "markdown",
   "metadata": {},
   "source": [
    "Anders dan in de vorige opdracht moeten we de dummies weer aan carbody_df plakken, dat doen we met behulp van *pd.concat()* (zie https://pandas.pydata.org/docs/user_guide/merging.html)"
   ]
  },
  {
   "cell_type": "code",
   "execution_count": null,
   "metadata": {},
   "outputs": [],
   "source": [
    "carprice_df = pd.concat([carprice_df,carbody_dummies], axis = 1)"
   ]
  },
  {
   "attachments": {},
   "cell_type": "markdown",
   "metadata": {
    "tags": []
   },
   "source": [
    "## Stap 2 - Multiple regression models\n",
    "\n",
    "Voer de hierarchische multiple lineaire regressie-analyse uit in Python, en beantwoord de vragen. "
   ]
  },
  {
   "cell_type": "code",
   "execution_count": null,
   "metadata": {},
   "outputs": [],
   "source": [
    "lijst_1 = \"maak hier een lijst met de variabelen die je in stap 1 wilt toevoegen\""
   ]
  },
  {
   "cell_type": "code",
   "execution_count": null,
   "metadata": {},
   "outputs": [],
   "source": [
    "lijst_2 = \"maak hier een lijst met de variabelen die je in stap 2 wilt toevoegen\""
   ]
  },
  {
   "cell_type": "code",
   "execution_count": null,
   "metadata": {},
   "outputs": [],
   "source": [
    "lijst_3 = \"maak hier een lijst met de variabelen die je in stap 3 wilt toevoegen\""
   ]
  },
  {
   "attachments": {},
   "cell_type": "markdown",
   "metadata": {},
   "source": [
    "We maken nu een lijst van lijsten, die per stap de variabele bevat die je toe wilt voegen aan je model. "
   ]
  },
  {
   "cell_type": "code",
   "execution_count": null,
   "metadata": {},
   "outputs": [],
   "source": [
    "variabelen_per_stap =  [lijst_1, lijst_2,lijst_3]"
   ]
  },
  {
   "attachments": {},
   "cell_type": "markdown",
   "metadata": {},
   "source": [
    "Definieer nu de onafhankelijke variabele X"
   ]
  },
  {
   "cell_type": "code",
   "execution_count": null,
   "metadata": {},
   "outputs": [],
   "source": [
    "X = \"definieer het dataframe met onafhankelijke variabelen\""
   ]
  },
  {
   "attachments": {},
   "cell_type": "markdown",
   "metadata": {},
   "source": [
    "Definieer nu de afhankelijke variabele y"
   ]
  },
  {
   "cell_type": "code",
   "execution_count": null,
   "metadata": {},
   "outputs": [],
   "source": [
    "y = \"definieer hier de afhankelijke variabele\""
   ]
  },
  {
   "attachments": {},
   "cell_type": "markdown",
   "metadata": {},
   "source": [
    "Vervolgens gebruiken we de functie *hierarchical_regression* uit helper_function.py om het model te maken en de resultaten op te vragen."
   ]
  },
  {
   "cell_type": "code",
   "execution_count": null,
   "metadata": {},
   "outputs": [],
   "source": [
    "results, model = helper_functions.hierarchical_regression(y,X,variabelen_per_stap)"
   ]
  },
  {
   "attachments": {},
   "cell_type": "markdown",
   "metadata": {},
   "source": [
    "De variabele *results* is nu een dataframe met daarin alle relevante statistieken per model. Dit dataframe heb je nodig om de volgende vragen te beantwoorden. Daarom vragen we dit dataframe op."
   ]
  },
  {
   "cell_type": "code",
   "execution_count": null,
   "metadata": {},
   "outputs": [],
   "source": [
    "results"
   ]
  },
  {
   "attachments": {},
   "cell_type": "markdown",
   "metadata": {},
   "source": [
    "Vervolgens vragen we per model de (on-)gestandaardiseerde beta's en p-waarden per predictor op, om de modellen inhoudelijk te kunnen interpreteren:"
   ]
  },
  {
   "cell_type": "code",
   "execution_count": null,
   "metadata": {},
   "outputs": [],
   "source": [
    "for i in range(results.shape[0]):\n",
    "    results_per_model = results.iloc[i]\n",
    "    model_results = pd.DataFrame({'predictors' : ['constant'] + results_per_model['predictors'], \n",
    "                                  'beta_coeff' : list(results_per_model['beta_coeff'].values()), \n",
    "                                  'standardized_betas':  [np.nan] + list(results_per_model['standardized_betas'].values()),\n",
    "                                  'p_values' : list(results_per_model['p_values'].values())})\n",
    "    print('Results for model ', i+1)\n",
    "    print(model_results)\n",
    "    print('-------------')\n",
    "                              \n",
    "                              "
   ]
  },
  {
   "attachments": {},
   "cell_type": "markdown",
   "metadata": {},
   "source": [
    "### Vraag 1\n",
    "*Interpreteer de R square per model en concludeer op basis van de R square welk model het beste de prijs van een auto voorspelt.* "
   ]
  },
  {
   "attachments": {},
   "cell_type": "markdown",
   "metadata": {},
   "source": [
    "Typ hier je antwoord"
   ]
  },
  {
   "attachments": {},
   "cell_type": "markdown",
   "metadata": {},
   "source": [
    "### Vraag 2\n",
    "*Interpreteer per model de output onder F statistic? Wat betekent dit voor de verschillende modellen?* "
   ]
  },
  {
   "attachments": {},
   "cell_type": "markdown",
   "metadata": {},
   "source": [
    "Typ hier je antwoord"
   ]
  },
  {
   "attachments": {},
   "cell_type": "markdown",
   "metadata": {},
   "source": [
    "### Vraag 3\n",
    "*Interpreteer de F change statistics per model. Wat betekent dit voor de verschillende modellen?*"
   ]
  },
  {
   "attachments": {},
   "cell_type": "markdown",
   "metadata": {},
   "source": [
    "Typ hier je antwoord"
   ]
  },
  {
   "attachments": {},
   "cell_type": "markdown",
   "metadata": {},
   "source": [
    "### Vraag 4\n",
    "*Bekijk de beta's en bijbehorende p-waarden. Benoem op basis daarvan drie opvallende verschillen in resultaten tussen model 1 en model 2.*"
   ]
  },
  {
   "attachments": {},
   "cell_type": "markdown",
   "metadata": {},
   "source": [
    "Typ hier je antwoord"
   ]
  },
  {
   "attachments": {},
   "cell_type": "markdown",
   "metadata": {},
   "source": [
    "### Vraag 5\n",
    "*Interpreteer voor model 3 per predictor, indien relevant, de beta en bijbehorende p-waarde zeer nauwkeurig.*"
   ]
  },
  {
   "attachments": {},
   "cell_type": "markdown",
   "metadata": {},
   "source": [
    "Typ hier je antwoord"
   ]
  },
  {
   "attachments": {},
   "cell_type": "markdown",
   "metadata": {},
   "source": [
    "## Stap 3 - Autoprijzen voorspellen\n",
    "\n",
    "Op basis de resultaten uit model 3 gaan jullie autoprijzen voorspellen voor verschillende typen auto’s. Dit doen jullie op basis van de formule van een multiple regressie: "
   ]
  },
  {
   "attachments": {},
   "cell_type": "markdown",
   "metadata": {},
   "source": [
    "$$ Price_{i} = b_{0} + b_{1}carwidth_{i} + b_{2}carheight_{i} + b_{3}curbweight_{i} + b_{4}carbody_{i}  + b_{5}horsepower_{i} + b_{6}enginesize_{i} $$"
   ]
  },
  {
   "attachments": {},
   "cell_type": "markdown",
   "metadata": {},
   "source": [
    "*Voorspel de prijzen van onderstaande auto’s.* "
   ]
  },
  {
   "attachments": {},
   "cell_type": "markdown",
   "metadata": {},
   "source": [
    "| **Type auto** |\n",
    "|:---|\n",
    "| **Type 1:** Een soft top (of convertible) met 262 PK, een motoromvang van 304, een breedte van 72 feet, hoogte van 48 feet en een gewicht van 1900 kilo |\n",
    "| **Type 2:** Een sedan met 70 PK, een motoromvang van 90, een breedte van 65 feet, hoogte van 55 feet en een gewicht van 2500 kilo |  \n",
    "| **Type 3:** Een wagon met 80 PK, een motoromvang van 80, een breedte van 70 feet, hoogte van 59 feet en een gewicht van 3900 kilo |   "
   ]
  },
  {
   "attachments": {},
   "cell_type": "markdown",
   "metadata": {},
   "source": [
    "Typ hier de voorspelde autoprijs voor **Type 1**"
   ]
  },
  {
   "attachments": {},
   "cell_type": "markdown",
   "metadata": {},
   "source": [
    "Typ hier de voorspelde autoprijs voor **Type 2**"
   ]
  },
  {
   "attachments": {},
   "cell_type": "markdown",
   "metadata": {},
   "source": [
    "Typ hier de voorspelde autoprijs voor **Type 3**"
   ]
  },
  {
   "attachments": {},
   "cell_type": "markdown",
   "metadata": {},
   "source": [
    "## Stap 4 - Conclusies en advies\n",
    "\n",
    "*Trek conclusies en breng op basis van bovenstaande resultaten een advies uit aan de opdrachtgevers van BOVAG.* \n",
    "\n",
    "Zorg ervoor dat je conclusies en advies aan de volgende criteria voldoen:\n",
    "- Conclusies: Geef een korte beschrijving van resultaten in **‘lekentaal’** (te begrijpen voor iemand zonder veel kennis van statistiek) en verwerk daarin ook de verklaarde variantie. Ga ook in op de voorspellingen van autoprijzen.\n",
    "- Advies: Geef concrete aanbevelingen. Schrijf bijvoorbeeld niet alleen op ‘er is vervolgonderzoek nodig’, of ‘interventies moeten gericht zijn op variabele Y’, maar geef ook concrete suggesties. "
   ]
  },
  {
   "attachments": {},
   "cell_type": "markdown",
   "metadata": {},
   "source": [
    "Typ hier jullie conclusies in lekentaal"
   ]
  },
  {
   "attachments": {},
   "cell_type": "markdown",
   "metadata": {},
   "source": [
    "Typ hier jullie advies"
   ]
  }
 ],
 "metadata": {
  "kernelspec": {
   "display_name": "Python 3 (ipykernel)",
   "language": "python",
   "name": "python3"
  },
  "language_info": {
   "codemirror_mode": {
    "name": "ipython",
    "version": 3
   },
   "file_extension": ".py",
   "mimetype": "text/x-python",
   "name": "python",
   "nbconvert_exporter": "python",
   "pygments_lexer": "ipython3",
   "version": "3.8.2"
  }
 },
 "nbformat": 4,
 "nbformat_minor": 4
}
