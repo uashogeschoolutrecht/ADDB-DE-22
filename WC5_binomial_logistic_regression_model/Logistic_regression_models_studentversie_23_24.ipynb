{
  "cells": [
    {
      "cell_type": "code",
      "execution_count": null,
      "metadata": {
        "id": "kneTWWOMdrBR"
      },
      "outputs": [],
      "source": [
        "%%html\n",
        "<style>\n",
        "table {margin-left: 0 !important;}\n",
        "table td, table th, table tr {text-align:left !important;}\n",
        "</style>"
      ]
    },
    {
      "attachments": {},
      "cell_type": "markdown",
      "metadata": {
        "id": "D2uEgSH5drBT"
      },
      "source": [
        "<div>\n",
        "<img src=\"attachment:Bovag.jpg\" width=\"400\">\n",
        "</div>"
      ]
    },
    {
      "attachments": {},
      "cell_type": "markdown",
      "metadata": {
        "id": "TeFc8WAOdrBV"
      },
      "source": [
        "# Multiple Binomial Logistic Regression Models - Groepsopdracht voor werkcollege\n",
        "\n",
        "## Casus\n",
        "De Hogeschool Utrecht (HU) heeft zo’n 4.000 werknemers in dienst. Elk jaar vertrekt echter zo’n 15% van de werknemers en de corporate HRM afdeling heeft de taak om deze werknemers te vervangen. Het kost veel tijd en geld om geschikte werknemers te vinden, omdat er sprake is van een krappe arbeidsmarkt (er zijn meer vacatures dan werkzoekenden).\n",
        "\n",
        "Daarom wil de HU investeren in het *behouden* van werknemers, om zo het vertrekpercentage te verlagen. Het management heeft daarom aan het People Analytics team gevraagd te onderzoeken welke factoren het vertrek van werknemers kunnen verklaren, zodat gerichte interventies kunnen worden ingezet om werknemers te behouden. Jullie werken voor het People Analytics team en gaan onderzoeken welke factoren vertrek voorspellen. Dat doen jullie op basis van een dataset met daarin 4.410 (oud-)werknemers van de HU.\n",
        "\n",
        "Jullie gaan een **hiërarchisch regressiemodel** bouwen en passen daarbij **het principe van parsimony** toe om te komen tot het meest simpele voorspellend model. Op basis van eerdere onderzoeken naar oorzaken van vertrek bouwen jullie het multiple regressie model in drie stappen op (of: 3 modellen). Hieronder staat toegelicht welke predictoren in elk model worden toegevoegd.  \n",
        "\n",
        "Vertrek (Y) wordt gemeten als *de medewerker is in het afgelopen jaar vertrokken (ja/nee)*, heeft als variabelenaam ***Attrition_rec*** en is van *nominaal* meetniveau.\n",
        "\n",
        "In onderstaande tabel zie je welke predictoren (X) je in welk model moet opnemen:\n"
      ]
    },
    {
      "attachments": {},
      "cell_type": "markdown",
      "metadata": {
        "id": "RcbH48O2drBW"
      },
      "source": [
        "| Model | Predictor (X) | Variabelenaam | Meetniveau |\n",
        "| :--- | :--- | :--- | :--- |\n",
        "| 1 | Leeftijd | Age | Ratio |\n",
        "| 1 | Opleidingsniveau | Education | Ordinaal |\n",
        "| 1 | Geslacht | Gender | Nominaal |\n",
        "| 1 | Aantal organisaties waarvoor de werknemer gewerkt heeft | NumCompaniesWorked | Ratio |\n",
        "| 1 | Jaren werkervaring | TotalWorkingYears | Ratio |\n",
        "| 2 | Maandsalaris | MonthlyIncome| Ratio |\n",
        "| 2 | Reisafstand in kilometers | DistanceFromHome | Ratio |\n",
        "| 2 | Jaren sinds laatste promotie | YearsSinceLastPromotion | Ratio |\n",
        "| 2 | Performancescore | PerformanceRating | Interval |\n",
        "| 2 | Aantal jaren werkzaam onder huidige manager | YearsWithCurrManager | Ratio |\n",
        "| 3 | Werktevredenheid | JobSatisfaction | Interval |\n",
        "| 3 | Werk-privé balans | WorkLifeBalance | Interval |\n",
        "| 3 | Werkbetrokkenheid | JobInvolvement | Interval |"
      ]
    },
    {
      "attachments": {},
      "cell_type": "markdown",
      "metadata": {
        "id": "vefHbys7drBX"
      },
      "source": [
        "**Voetnoten bij tabel**\n",
        "1. *Maandsalaris*: Het maandsalaris wordt weergegeven in roepies (Indiase munteendheid). Dat is natuurlijk raar, wij als HU-docenten krijgen gewoon in euro’s uitbetaald. We hadden een creatieve reden kunnen bedenken waarom hier roepies staan, maar jullie snappen de echte reden vast wel: het is een fictief bestand, gemaakt door Indiase HRM docent, waarvan wij met toestemming dankbaar gebruik van maken voor onze eigen fictieve casus.\n",
        "2. *Interval variabelen*: Deze schalen zijn eigenlijk van ordinaal meetniveau. In de praktijk worden schalen van ordinaal meetniveau met een structuur die lijkt op een Likert-schaal vaak behandeld als schalen van interval niveau. Dat doen wij hier ook. Daarop is uiteraard kritiek te leveren, maar die negeren wij voor deze opdracht voor ons gemak even."
      ]
    },
    {
      "attachments": {},
      "cell_type": "markdown",
      "metadata": {
        "id": "-6OmJpOPdrBX"
      },
      "source": [
        "Run eerst onderstaande cel om de benodigde packages te laden."
      ]
    },
    {
      "cell_type": "code",
      "execution_count": null,
      "metadata": {},
      "outputs": [],
      "source": [
        "# Als je een foutmelding krijgt, uncomment dan de volgende X regels (verwijder '#') en run de cel opnieuw.\n",
        "\n",
        "# !pip install numpy==1.23.5\n",
        "# !pip install pandas==1.5.3\n",
        "# !pip install statsmodels==0.14.0\n",
        "\n",
        "import numpy as np\n",
        "import pandas as pd\n",
        "import statsmodels.api as sm\n",
        "\n",
        "print(np.__version__,pd.__version__,sm.__version__)"
      ]
    },
    {
      "attachments": {},
      "cell_type": "markdown",
      "metadata": {
        "id": "t1579BQnjVLd"
      },
      "source": [
        "Laad nu de data in door de volgende cel te runnen"
      ]
    },
    {
      "cell_type": "code",
      "execution_count": null,
      "metadata": {
        "id": "5JAgcgEdjnAR"
      },
      "outputs": [],
      "source": [
        "hrdata = pd.read_csv('https://raw.githubusercontent.com/uashogeschoolutrecht/ADDB-DE-22/master/WC5_binomial_logistic_regression_model/General_data.csv',sep=';')\n",
        "hrdata.head()"
      ]
    },
    {
      "attachments": {},
      "cell_type": "markdown",
      "metadata": {
        "id": "p5N9eCm0j0ZF"
      },
      "source": [
        "*   We kiezen ervoor om rijen met ontbrekende kenmerkwaarden te verwijderen.\n",
        "* Daarnaast passen we de waarden (Yes/No) van de afhankelijke variabele aan naar binaire waarden (1/0). \n",
        "* We zorgen dat het type van een aantal kenmerken als numeriek (integer) wordt herkend.\n",
        "* Tenslotte voegen we een constante toe, wat nodig is voor het trainen van de modellen met het Python-package statsmodels."
      ]
    },
    {
      "cell_type": "code",
      "execution_count": null,
      "metadata": {
        "id": "H5Mabc_7fErP"
      },
      "outputs": [],
      "source": [
        "hrdata.replace(' ', np.nan, inplace=True)\n",
        "hrdata = hrdata.dropna()\n",
        "\n",
        "hrdata['Attrition'].replace(['Yes','No'],[1,0],inplace=True)\n",
        "\n",
        "hrdata = sm.tools.tools.add_constant(hrdata, prepend=True, has_constant='add')\n",
        "\n",
        "hrdata = hrdata.astype({'TotalWorkingYears': 'int', 'NumCompaniesWorked': 'int', 'JobSatisfaction': 'int', 'WorkLifeBalance': 'int'})\n"
      ]
    },
    {
      "attachments": {},
      "cell_type": "markdown",
      "metadata": {
        "id": "YIciDvxmdrBZ"
      },
      "source": [
        "## Stap 1: Dummy variabelen maken\n",
        "\n",
        "In het eerste model worden de variabelen Education en Gender toegevoegd. Dit zijn categorische variabelen waarvan eerst dummy variabelen worden gemaakt. \n",
        "- Maak de dummy variabelen aan met Education type ‘Bachelor’ (waarde 1) als baseline categorie. Oftewel, maak vier dummy variabelen aan: Below_college, College, Master en Doctor. \n",
        "- Maak de dummy variabelen aan voor vrouwen, genaamd Female. (De baseline wordt dus gevormd door de waarde Male.) \n",
        "- Voeg de nieuwe dummy-kenmerken toe aan de tabel en verwijder de originele variabelen.  \n",
        "  "
      ]
    },
    {
      "cell_type": "code",
      "execution_count": null,
      "metadata": {
        "id": "f9gnHRPOfPH7"
      },
      "outputs": [],
      "source": [
        "education_dummies = pd.get_dummies(hrdata['Education'],prefix = 'Education', prefix_sep = '.')\n",
        "education_dummies = education_dummies.drop('Education.1', axis = 1)"
      ]
    },
    {
      "cell_type": "code",
      "execution_count": null,
      "metadata": {
        "id": "wKaxEWBgfaJb"
      },
      "outputs": [],
      "source": [
        "gender_dummies = pd.get_dummies(hrdata['Gender'],prefix = 'Gender', prefix_sep = '')\n",
        "gender_dummies = gender_dummies.drop('GenderMale', axis = 1)"
      ]
    },
    {
      "cell_type": "code",
      "execution_count": null,
      "metadata": {},
      "outputs": [],
      "source": [
        "hrdata = pd.concat([hrdata,education_dummies,gender_dummies], axis = 1)\n",
        "hrdata = hrdata.drop(['Education','Gender'],axis = 1)"
      ]
    },
    {
      "attachments": {},
      "cell_type": "markdown",
      "metadata": {
        "id": "b3etRSDTdrBa"
      },
      "source": [
        "## Stap 2 - Multiple Binomial Logistic Regression Models\n",
        "\n",
        "Voer de multiple binomial logistic regression models uit in R en beantwoord de vragen. Je moet hiervoor alle onderstaande codes runnen."
      ]
    },
    {
      "attachments": {},
      "cell_type": "markdown",
      "metadata": {
        "id": "BTOLkVAgo29w"
      },
      "source": [
        "**Hieronder staat de syntax voor het runnen van Model 1:**"
      ]
    },
    {
      "cell_type": "code",
      "execution_count": null,
      "metadata": {
        "id": "Eu6-Bm8ffhH6"
      },
      "outputs": [],
      "source": [
        "model1 = sm.Logit(hrdata[['Attrition']], hrdata[['const','Age','Education.2','Education.3','Education.4','Education.5', \n",
        "                                                 'GenderFemale','NumCompaniesWorked','TotalWorkingYears']])\n",
        "result1 = model1.fit(method='newton')\n",
        "display(result1.summary())"
      ]
    },
    {
      "attachments": {},
      "cell_type": "markdown",
      "metadata": {
        "id": "N0eounnPo-Xx"
      },
      "source": [
        "**Hieronder staat de syntax voor het runnen van Model 2:**"
      ]
    },
    {
      "cell_type": "code",
      "execution_count": null,
      "metadata": {
        "id": "u_PCbNjbfzjt"
      },
      "outputs": [],
      "source": [
        "model2 = sm.Logit(hrdata[['Attrition']], hrdata[['const','Age','Education.2','Education.3','Education.4','Education.5', \n",
        "                                                 'GenderFemale','NumCompaniesWorked','TotalWorkingYears', 'MonthlyIncome',\n",
        "                                                 'DistanceFromHome','YearsSinceLastPromotion','PerformanceRating',\n",
        "                                                 'YearsWithCurrManager']])\n",
        "result2 = model2.fit(method='newton')\n",
        "display(result2.summary())"
      ]
    },
    {
      "attachments": {},
      "cell_type": "markdown",
      "metadata": {
        "id": "UyAs1HQYpB9H"
      },
      "source": [
        "**Hieronder staat de syntax voor het runnen van Model 3:**"
      ]
    },
    {
      "cell_type": "code",
      "execution_count": null,
      "metadata": {
        "id": "TTTkhnmTgPzw"
      },
      "outputs": [],
      "source": [
        "model3 = sm.Logit(hrdata[['Attrition']], hrdata[['const','Age','Education.2','Education.3','Education.4','Education.5', \n",
        "                                                 'GenderFemale','NumCompaniesWorked','TotalWorkingYears', 'MonthlyIncome',\n",
        "                                                 'DistanceFromHome','YearsSinceLastPromotion','PerformanceRating',\n",
        "                                                 'YearsWithCurrManager','JobSatisfaction','WorkLifeBalance','JobInvolvement']])\n",
        "result3 = model3.fit(method='newton')\n",
        "display(result3.summary())"
      ]
    },
    {
      "attachments": {},
      "cell_type": "markdown",
      "metadata": {
        "id": "YYi_N9BppHEg"
      },
      "source": [
        "**Let op:** Voor model 3 vragen we ook de Odds ratio's en bijbehorende confidence intervals op. Deze gaan we inhoudelijk interpreteren."
      ]
    },
    {
      "cell_type": "code",
      "execution_count": null,
      "metadata": {
        "id": "Ves9dcuC18Sq"
      },
      "outputs": [],
      "source": [
        "params = result3.params\n",
        "conf = result3.conf_int()\n",
        "conf['Odds Ratio'] = params\n",
        "conf.columns = ['2.5%', '97.5%', 'Odds Ratio']\n",
        "print(np.exp(conf))"
      ]
    },
    {
      "attachments": {},
      "cell_type": "markdown",
      "metadata": {
        "id": "rlybLoDTdrBc"
      },
      "source": [
        "### Vraag 1\n",
        "*Interpreteer de pseudo R squares en concludeer welk model het beste het vertrek van werknemers voorspelt én hoe goed dit model het vertrek van werknemers voorspelt.*"
      ]
    },
    {
      "attachments": {},
      "cell_type": "markdown",
      "metadata": {
        "id": "3BgHgp_1drBc"
      },
      "source": [
        "Typ hier je antwoord"
      ]
    },
    {
      "attachments": {},
      "cell_type": "markdown",
      "metadata": {
        "id": "Vn4fm-nJdrBc"
      },
      "source": [
        "### Vraag 2\n",
        "*Interpreteer de log-likelihoods m.b.t. verbetering ten opzichte van vorige modellen en trek een passende conclusie over de model fit.*"
      ]
    },
    {
      "attachments": {},
      "cell_type": "markdown",
      "metadata": {
        "id": "OI9TIlKcdrBd"
      },
      "source": [
        "Typ hier je antwoord"
      ]
    },
    {
      "attachments": {},
      "cell_type": "markdown",
      "metadata": {
        "id": "xJmgPiXQdrBd"
      },
      "source": [
        "### Vraag 3\n",
        "*Interpreteer voor model 3 per predictor, indien relevant, de odds ratio en significantie (o.b.v. de confidence intervals) zeer nauwkeurig.*"
      ]
    },
    {
      "attachments": {},
      "cell_type": "markdown",
      "metadata": {
        "id": "VV9PqB_jdrBd"
      },
      "source": [
        "Typ hier je antwoord"
      ]
    },
    {
      "attachments": {},
      "cell_type": "markdown",
      "metadata": {
        "id": "iUkFmsv1drBe"
      },
      "source": [
        "## Stap 3 - Model Parsimony\n",
        "\n",
        "- Verwijder alle *niet significante predictoren* uit model 3 en run het model opnieuw.\n",
        "- Bereken vervolgens de AIC voor model 3 met álle predictoren *en* de AIC voor model 3 met álleen significante predictoren.\n",
        "- Beantwoord daarna onderstaande vragen.   "
      ]
    },
    {
      "cell_type": "code",
      "execution_count": null,
      "metadata": {
        "id": "bXF-TCn8gWbI"
      },
      "outputs": [],
      "source": [
        "# model 4 wordt berekend met enkel de significante predictoren\n",
        "\n",
        "model4 = sm.Logit(hrdata[['Attrition']], hrdata[['const','Age','NumCompaniesWorked','TotalWorkingYears', 'MonthlyIncome','YearsSinceLastPromotion','YearsWithCurrManager','JobSatisfaction','WorkLifeBalance']])\n",
        "result4 = model4.fit(method='newton')\n",
        "\n",
        "print(\"Akaike Information Criterion: {}, {}\".format(round(result3.aic,2),round(result4.aic,2))) \n"
      ]
    },
    {
      "attachments": {},
      "cell_type": "markdown",
      "metadata": {
        "id": "6jogONj6drBe"
      },
      "source": [
        "### Vraag 1\n",
        "*Leidt het verwijderen van niet significante predictoren daadwerkelijk tot een meer ‘parsimonious’ model? Licht je antwoord toe.*"
      ]
    },
    {
      "attachments": {},
      "cell_type": "markdown",
      "metadata": {
        "id": "IGTITboXdrBe"
      },
      "source": [
        "Typ hier je antwoord"
      ]
    },
    {
      "attachments": {},
      "cell_type": "markdown",
      "metadata": {
        "id": "UquErACJdrBe"
      },
      "source": [
        "## Stap 4 - Conclusies en advies\n",
        "\n",
        "*Trek conclusies en breng op basis van bovenstaande resultaten een advies uit aan de opdrachtgevers van de HU.*\n",
        "\n",
        "Zorg ervoor dat je conclusies en advies aan de volgende criteria voldoen:\n",
        "- Conclusies: Geef een korte beschrijving van resultaten in **‘lekentaal’** (te begrijpen voor iemand zonder veel kennis van statistiek) en verwerk daarin ook de verklaarde variantie. Betrek hierin ook de model parsimomy.\n",
        "- Advies: Geef concrete aanbevelingen. Schrijf bijvoorbeeld niet alleen op ‘er is vervolgonderzoek nodig’, of ‘interventies moeten gericht zijn op variabele Y’, maar geef ook concrete suggesties."
      ]
    },
    {
      "attachments": {},
      "cell_type": "markdown",
      "metadata": {
        "id": "RVUAZHwvdrBf"
      },
      "source": [
        "Typ hier jullie conclusies in lekentaal"
      ]
    },
    {
      "attachments": {},
      "cell_type": "markdown",
      "metadata": {
        "id": "MQ45p5pndrBf"
      },
      "source": [
        "Typ hier jullie advies"
      ]
    }
  ],
  "metadata": {
    "colab": {
      "provenance": []
    },
    "kernelspec": {
      "display_name": "Python 3 (ipykernel)",
      "language": "python",
      "name": "python3"
    },
    "language_info": {
      "codemirror_mode": {
        "name": "ipython",
        "version": 3
      },
      "file_extension": ".py",
      "mimetype": "text/x-python",
      "name": "python",
      "nbconvert_exporter": "python",
      "pygments_lexer": "ipython3",
      "version": "3.8.2"
    }
  },
  "nbformat": 4,
  "nbformat_minor": 0
}
