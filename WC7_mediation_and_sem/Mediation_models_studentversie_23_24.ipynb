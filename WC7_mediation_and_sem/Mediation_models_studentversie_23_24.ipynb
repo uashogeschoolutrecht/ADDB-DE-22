{
 "cells": [
  {
   "cell_type": "code",
   "execution_count": null,
   "metadata": {},
   "outputs": [],
   "source": [
    "%%html\n",
    "<style> \n",
    "table {margin-left: 0 !important;}\n",
    "table td, table th, table tr {text-align:left !important;}\n",
    "</style>"
   ]
  },
  {
   "attachments": {},
   "cell_type": "markdown",
   "metadata": {},
   "source": [
    "<div>\n",
    "<img src=\"attachment:Bovag.jpg\" width=\"400\">\n",
    "</div>"
   ]
  },
  {
   "attachments": {},
   "cell_type": "markdown",
   "metadata": {},
   "source": [
    "# Mediation Models - Groepsopdracht voor werkcollege\n",
    "\n",
    "## Casus\n",
    "Uit een medewerkerstevredenheidsonderzoek (MTO) blijkt dat zorgpersoneel in het UMC Utrecht gemiddeld gezien veel stress ervaart. Beleidsmedewerkers weten dat stress door veel verschillende werk gerelateerde en persoonlijk kenmerken kan worden beïnvloed. Er is eerder onderzoek uitgevoerd naar werk gerelateerde factoren. Daaruit bleek dat het UMC Utrecht werkcondities moet verbeteren om stress te reduceren, zoals het aantal verschillende taken reduceren en de personeelsplanning optimaliseren. \n",
    "\n",
    "Jullie worden door het UMC Utrecht ingehuurd om de relatie tussen persoonskenmerken en stress te onderzoeken. Op basis van wetenschappelijke literatuur hebben jullie onderstaand conceptueel model opgesteld. Op basis van dit model verwachten jullie dat naarmate iemand meer controle ervaart in zijn/haar werk (X), hij/zij minder stress ervaart (Y) en dat deze relatie positief wordt gemedieerd door positieve affectiviteit (M). Oftewel: een zorgmedewerker die veel controle ervaart (X), staat positiever in het werken bij het UMC Utrecht (M), en ervaart daardoor minder stress (Y). Dit model gaan jullie toetsen met een mediatie-analyse, waarbij jullie controleren voor de variabelen Geslacht en Leeftijd.  \n"
   ]
  },
  {
   "attachments": {},
   "cell_type": "markdown",
   "metadata": {},
   "source": [
    "| Type | Omschrijving | Variabelenaam | Meetniveau |\n",
    "| :--- | :--- | :--- | :--- |\n",
    "| Y | Ervaren stress | Tpstress | Ratio |\n",
    "| X | Ervaren controle | Tpcoiss | Ratio |\n",
    "| M | Positieve affectiviteit (band met organisatie) | Tposaff | Ratio | \n",
    "| Controle | Geslacht (1 = man, 2 = vrouw) | sex | Nominaal |\n",
    "| Controle | Leeftijd | age| Ratio |"
   ]
  },
  {
   "attachments": {},
   "cell_type": "markdown",
   "metadata": {},
   "source": [
    "Bekijk eerst het conceptueel model via deze link: \n",
    "https://github.com/uashogeschoolutrecht/ADDB-DE-22/blob/master/WC7_mediation_and_sem/Mediation_model.jpg"
   ]
  },
  {
   "attachments": {},
   "cell_type": "markdown",
   "metadata": {},
   "source": [
    "Run onderstaande cell om de library pyprocessmacro te installeren."
   ]
  },
  {
   "cell_type": "code",
   "execution_count": null,
   "metadata": {},
   "outputs": [],
   "source": [
    "!pip install pyprocessmacro==1.0.12"
   ]
  },
  {
   "attachments": {},
   "cell_type": "markdown",
   "metadata": {},
   "source": [
    "Importeer vervolgens de benodigde packages. "
   ]
  },
  {
   "cell_type": "code",
   "execution_count": null,
   "metadata": {},
   "outputs": [],
   "source": [
    "# Als je een foutmelding krijgt, uncomment dan de volgende 3 regels (verwijder '#') en run de cel opnieuw.\n",
    "\n",
    "# !pip install numpy==1.22.4\n",
    "# !pip install pandas==1.5.3\n",
    "\n",
    "import numpy as np\n",
    "import pandas as pd\n",
    "from pyprocessmacro import Process"
   ]
  },
  {
   "attachments": {},
   "cell_type": "markdown",
   "metadata": {},
   "source": [
    "Vervolgens lezen we de data in en moeten we de data wat opschonen. Dat doen we met onderstaande syntax. "
   ]
  },
  {
   "cell_type": "code",
   "execution_count": null,
   "metadata": {},
   "outputs": [],
   "source": [
    "mediatie_df = pd.read_csv('https://raw.githubusercontent.com/uashogeschoolutrecht/ADDB-DE-22/master/WC7_mediation_and_sem/survey.csv',sep = \";\")\n",
    "\n",
    "#Verwijder waarden met enkel ' '\n",
    "mediatie_df = mediatie_df[(~(mediatie_df['tposaff']==\" \") & ~(mediatie_df['tpcoiss']==\" \") & ~(mediatie_df['tpstress']==\" \"))]\n",
    "\n",
    "#Cast string to int\n",
    "for column in ['tposaff','tpcoiss','tpstress']:\n",
    "    mediatie_df[column] = mediatie_df[column].astype(int)\n",
    "mediatie_df.head()"
   ]
  },
  {
   "attachments": {},
   "cell_type": "markdown",
   "metadata": {},
   "source": [
    "## Stap 1A: Interpretatie Pad A\n",
    "\n",
    "Run het model met onderstaande syntax. \n",
    "\n",
    "Je kijkt hier naar pad A uit bovenstaand conceptueel model (relatie tussen X en M), dus interpreteer het *juiste stuk output*. Deze data interpreteer je op dezelfde manier als data van een regressie analyse. Beantwoord onderstaande vragen. \n",
    "  "
   ]
  },
  {
   "cell_type": "code",
   "execution_count": null,
   "metadata": {},
   "outputs": [],
   "source": [
    "p = Process(data = mediatie_df,model = 4, x=\"tpcoiss\", y=\"tpstress\",m=[\"tposaff\"], controls = ['age','sex'])\n",
    "p.summary()"
   ]
  },
  {
   "attachments": {},
   "cell_type": "markdown",
   "metadata": {},
   "source": [
    "### Vraag 1\n",
    "*R square: hoeveel % van de variantie in de Y-variabele wordt verklaard door dit model? Wat betekent dit?* "
   ]
  },
  {
   "attachments": {},
   "cell_type": "markdown",
   "metadata": {},
   "source": [
    "Typ hier je antwoord"
   ]
  },
  {
   "attachments": {},
   "cell_type": "markdown",
   "metadata": {},
   "source": [
    "### Vraag 2\n",
    "*Interpreteer de unstandardized B (coeff) en bijbehorende significantewaarde (p-waarde). Wat betekent dit?* "
   ]
  },
  {
   "attachments": {},
   "cell_type": "markdown",
   "metadata": {},
   "source": [
    "Typ hier je antwoord"
   ]
  },
  {
   "attachments": {},
   "cell_type": "markdown",
   "metadata": {},
   "source": [
    "## Stap 1B - Interpretatie Pad B en C'\n",
    "\n",
    "Je kijkt vervolgens naar pad B en pad C’ uit bovenstaand conceptueel model (de relaties tussen X en Y, en tussen M en Y), interpreteer dus wederom *juiste stuk output*. Ook deze data interpreteer je op dezelfde manier als data van een regressie analyse. Beantwoord onderstaande vragen.\n"
   ]
  },
  {
   "attachments": {},
   "cell_type": "markdown",
   "metadata": {},
   "source": [
    "### Vraag 1\n",
    "*R square: hoeveel % van de variantie in de Y-variabele wordt verklaard door dit model? Wat betekent dit?* "
   ]
  },
  {
   "attachments": {},
   "cell_type": "markdown",
   "metadata": {},
   "source": [
    "Typ hier je antwoord"
   ]
  },
  {
   "attachments": {},
   "cell_type": "markdown",
   "metadata": {},
   "source": [
    "### Vraag 2\n",
    "*Interpreteer alle unstandardized B's (coeff) en bijbehorende significantewaarden (p-waarde). Wat betekent dit?* "
   ]
  },
  {
   "attachments": {},
   "cell_type": "markdown",
   "metadata": {},
   "source": [
    "Typ hier je antwoord"
   ]
  },
  {
   "attachments": {},
   "cell_type": "markdown",
   "metadata": {},
   "source": [
    "## Stap 1C - Interpretatie van data onder 'Total, Direct, and Indirect Effects of X on Y'\n",
    "\n",
    "Hier wijkt de interpretatie af van de interpretatie van een regressie analyse, want hier ga je kijken naar het indirecte effect van de mediator (Positieve affectiviteit). Oftewel, de combinatie van pad A en pad B uit het conceptueel model.  \n",
    "\n",
    "Tip: interpreteer de confidence intervals, zoals Field doet op in par. 11.4.5.  "
   ]
  },
  {
   "attachments": {},
   "cell_type": "markdown",
   "metadata": {},
   "source": [
    "### Vraag 1\n",
    "*Wordt de relatie tussen ervaren controle (X) en ervaren stress (Y) gemedieerd door positieve affectiviteit (M)? En waar zie je dat aan?* "
   ]
  },
  {
   "attachments": {},
   "cell_type": "markdown",
   "metadata": {},
   "source": [
    "Typ hier je antwoord"
   ]
  },
  {
   "attachments": {},
   "cell_type": "markdown",
   "metadata": {},
   "source": [
    "## Stap 2 - Conclusies en advies\n",
    "\n",
    "*Trek conclusies en breng op basis van bovenstaande resultaten een advies uit aan de opdrachtgevers van UMC Utrecht.* \n",
    "\n",
    "Zorg ervoor dat je conclusies en advies aan de volgende criteria voldoen:\n",
    "- Conclusies: Geef een korte beschrijving van resultaten in **‘lekentaal’** (te begrijpen voor iemand zonder veel kennis van statistiek).\n",
    "- Advies: Geef concrete aanbevelingen. Schrijf bijvoorbeeld niet alleen op ‘er is vervolgonderzoek nodig’, of ‘interventies moeten gericht zijn op variabele Y’, maar geef ook concrete suggesties. "
   ]
  },
  {
   "attachments": {},
   "cell_type": "markdown",
   "metadata": {},
   "source": [
    "Typ hier jullie conclusies in lekentaal"
   ]
  },
  {
   "attachments": {},
   "cell_type": "markdown",
   "metadata": {},
   "source": [
    "Typ hier jullie advies"
   ]
  }
 ],
 "metadata": {
  "kernelspec": {
   "display_name": "Python 3 (ipykernel)",
   "language": "python",
   "name": "python3"
  },
  "language_info": {
   "codemirror_mode": {
    "name": "ipython",
    "version": 3
   },
   "file_extension": ".py",
   "mimetype": "text/x-python",
   "name": "python",
   "nbconvert_exporter": "python",
   "pygments_lexer": "ipython3",
   "version": "3.8.2"
  }
 },
 "nbformat": 4,
 "nbformat_minor": 4
}
